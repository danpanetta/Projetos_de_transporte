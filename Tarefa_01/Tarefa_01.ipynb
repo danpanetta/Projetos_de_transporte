{
 "cells": [
  {
   "cell_type": "code",
   "execution_count": 50,
   "metadata": {},
   "outputs": [
    {
     "ename": "OperationalError",
     "evalue": "no such table: medicoes",
     "output_type": "error",
     "traceback": [
      "\u001b[0;31m---------------------------------------------------------------------------\u001b[0m",
      "\u001b[0;31mOperationalError\u001b[0m                          Traceback (most recent call last)",
      "\u001b[0;32m<ipython-input-50-4fc892ced5b0>\u001b[0m in \u001b[0;36m<module>\u001b[0;34m\u001b[0m\n\u001b[1;32m     23\u001b[0m     \u001b[0mcur\u001b[0m \u001b[0;34m=\u001b[0m \u001b[0mcon\u001b[0m\u001b[0;34m.\u001b[0m\u001b[0mcursor\u001b[0m\u001b[0;34m(\u001b[0m\u001b[0;34m)\u001b[0m\u001b[0;34m\u001b[0m\u001b[0;34m\u001b[0m\u001b[0m\n\u001b[1;32m     24\u001b[0m \u001b[0;34m\u001b[0m\u001b[0m\n\u001b[0;32m---> 25\u001b[0;31m     \u001b[0mcur\u001b[0m\u001b[0;34m.\u001b[0m\u001b[0mexecute\u001b[0m\u001b[0;34m(\u001b[0m \u001b[0;34m\"SELECT DISTINCT posto FROM medicoes ORDER BY posto\"\u001b[0m \u001b[0;34m)\u001b[0m\u001b[0;34m\u001b[0m\u001b[0;34m\u001b[0m\u001b[0m\n\u001b[0m\u001b[1;32m     26\u001b[0m     \u001b[0mpostos\u001b[0m \u001b[0;34m=\u001b[0m \u001b[0mcur\u001b[0m\u001b[0;34m.\u001b[0m\u001b[0mfetchall\u001b[0m\u001b[0;34m(\u001b[0m\u001b[0;34m)\u001b[0m\u001b[0;34m\u001b[0m\u001b[0;34m\u001b[0m\u001b[0m\n\u001b[1;32m     27\u001b[0m \u001b[0;34m\u001b[0m\u001b[0m\n",
      "\u001b[0;31mOperationalError\u001b[0m: no such table: medicoes"
     ]
    }
   ],
   "source": [
    "# Script para passar os arquivos CSV para o SQLite\n",
    "\n",
    "# Configuracoes =====================================\n",
    "\n",
    "dir_arquivos_dados = \"Y:\\\\alexandre\\\\ECV_UFSC\\\\1_Ensino\\\\Pos_graduacao\\\\PPGTG\\\\Disciplinas\\\\TGT410062\\\\TEMP\\\\Tarefa_01\\\\dados_0902\"\n",
    "dir_resultado = \"Y:\\\\alexandre\\\\ECV_UFSC\\\\1_Ensino\\\\Pos_graduacao\\\\PPGTG\\\\Disciplinas\\\\TGT410062\\\\TEMP\\\\Tarefa_01\\\\resultados\"\n",
    "\n",
    "# Imports ===========================================\n",
    "\n",
    "import glob\n",
    "import sqlite3\n",
    "import time\n",
    "\n",
    "# ===================================================\n",
    "\n",
    "start_time = time.time()\n",
    "\n",
    "print( \"Processando...\" )\n",
    "\n",
    "con = sqlite3.connect( \"%s\\\\banco_de_dados.sqlite\" % dir_resultado )\n",
    "\n",
    "with con:\n",
    "\n",
    "    cur = con.cursor()\n",
    "    \n",
    "    cur.execute( \"DROP TABLE IF EXISTS medicoes\" )\n",
    "    cur.execute( \"CREATE TABLE medicoes (posto integer, faixa integer, timestamp text, velocidade float, comprimento float)\" )\n",
    "\n",
    "    lista_de_arquivos = glob.glob( \"%s\\\\*.csv\" % dir_arquivos_dados )\n",
    "\n",
    "    for arquivo in lista_de_arquivos:\n",
    "\n",
    "        print( arquivo )\n",
    "        \n",
    "        posto = int( arquivo.split( \".\" )[0].split( \"_\" )[-1] )\n",
    "        \n",
    "        print( posto )\n",
    "        \n",
    "        input_file = open( arquivo, \"r\" )\n",
    "        \n",
    "        contador = 100\n",
    "        for line in input_file.readlines():\n",
    "            \n",
    "            if contador > 100:\n",
    "                #print( line )\n",
    "            \n",
    "                partes = line.split( \";\" )\n",
    "                faixa = int( partes[0] )\n",
    "                timestamp = partes[1]\n",
    "                velocidade = float( partes[2] )\n",
    "                comprimento = float( partes[3] )\n",
    "        \n",
    "                cur.execute( \"INSERT INTO medicoes (posto,faixa,timestamp,velocidade,comprimento) VALUES (%d,%d,'%s',%f,%f)\" % ( posto, faixa, timestamp, velocidade, comprimento ) )\n",
    "    \n",
    "            contador = contador + 1\n",
    "\n",
    "end_time = time.time()\n",
    "print( \"Tempo de processamento = %s segundos\" % ( end_time - start_time ) )"
   ]
  },
  {
   "cell_type": "code",
   "execution_count": null,
   "metadata": {},
   "outputs": [],
   "source": []
  },
  {
   "cell_type": "code",
   "execution_count": null,
   "metadata": {},
   "outputs": [],
   "source": []
  },
  {
   "cell_type": "code",
   "execution_count": null,
   "metadata": {},
   "outputs": [],
   "source": []
  },
  {
   "cell_type": "code",
   "execution_count": null,
   "metadata": {},
   "outputs": [],
   "source": []
  },
  {
   "cell_type": "code",
   "execution_count": null,
   "metadata": {},
   "outputs": [],
   "source": []
  },
  {
   "cell_type": "code",
   "execution_count": null,
   "metadata": {},
   "outputs": [],
   "source": []
  }
 ],
 "metadata": {
  "kernelspec": {
   "display_name": "Python 3",
   "language": "python",
   "name": "python3"
  },
  "language_info": {
   "codemirror_mode": {
    "name": "ipython",
    "version": 3
   },
   "file_extension": ".py",
   "mimetype": "text/x-python",
   "name": "python",
   "nbconvert_exporter": "python",
   "pygments_lexer": "ipython3",
   "version": "3.7.6"
  }
 },
 "nbformat": 4,
 "nbformat_minor": 4
}
